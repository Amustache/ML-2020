{
 "cells": [
  {
   "cell_type": "code",
   "execution_count": null,
   "metadata": {},
   "outputs": [],
   "source": [
    "import sys\n",
    "!{sys.executable} -m pip install numpy\n",
    "!{sys.executable} -m pip install tqdm\n",
    "!{sys.executable} -m pip install matplotlib"
   ]
  },
  {
   "cell_type": "code",
   "execution_count": null,
   "metadata": {},
   "outputs": [],
   "source": [
    "# Useful starting lines\n",
    "%matplotlib inline\n",
    "import numpy as np\n",
    "import matplotlib.pyplot as plt\n",
    "%load_ext autoreload\n",
    "%autoreload 2"
   ]
  },
  {
   "cell_type": "markdown",
   "metadata": {},
   "source": [
    "## Load the training data into feature matrix, class labels, and event ids:"
   ]
  },
  {
   "cell_type": "code",
   "execution_count": null,
   "metadata": {},
   "outputs": [],
   "source": [
    "from proj1_helpers import *\n",
    "DATA_TRAIN_PATH = 'data/train.csv' # TODO: download train data and supply path here \n",
    "y, tX, ids = load_csv_data(DATA_TRAIN_PATH)"
   ]
  },
  {
   "cell_type": "code",
   "execution_count": null,
   "metadata": {},
   "outputs": [],
   "source": [
    "# %load proj1_helpers.py\n",
    "\"\"\"some helper functions for project 1.\"\"\"\n",
    "import csv\n",
    "import numpy as np\n",
    "\n",
    "\n",
    "def load_csv_data(data_path, sub_sample=False):\n",
    "    \"\"\"Loads data and returns y (class labels), tX (features) and ids (event ids)\"\"\"\n",
    "    y = np.genfromtxt(data_path, delimiter=\",\", skip_header=1, dtype=str, usecols=1)\n",
    "    x = np.genfromtxt(data_path, delimiter=\",\", skip_header=1)\n",
    "    ids = x[:, 0].astype(np.int)\n",
    "    input_data = x[:, 2:]\n",
    "\n",
    "    # convert class labels from strings to binary (-1,1)\n",
    "    yb = np.ones(len(y))\n",
    "    yb[np.where(y=='b')] = -1\n",
    "    \n",
    "    # sub-sample\n",
    "    if sub_sample:\n",
    "        yb = yb[::50]\n",
    "        input_data = input_data[::50]\n",
    "        ids = ids[::50]\n",
    "\n",
    "    return yb, input_data, ids\n",
    "\n",
    "\n",
    "def predict_labels(weights, data):\n",
    "    \"\"\"Generates class predictions given weights, and a test data matrix\"\"\"\n",
    "    y_pred = np.dot(data, weights)\n",
    "    y_pred[np.where(y_pred <= 0)] = -1\n",
    "    y_pred[np.where(y_pred > 0)] = 1\n",
    "    \n",
    "    return y_pred\n",
    "\n",
    "\n",
    "def create_csv_submission(ids, y_pred, name):\n",
    "    \"\"\"\n",
    "    Creates an output file in csv format for submission to kaggle\n",
    "    Arguments: ids (event ids associated with each prediction)\n",
    "               y_pred (predicted class labels)\n",
    "               name (string name of .csv output file to be created)\n",
    "    \"\"\"\n",
    "    with open(name, 'w') as csvfile:\n",
    "        fieldnames = ['Id', 'Prediction']\n",
    "        writer = csv.DictWriter(csvfile, delimiter=\",\", fieldnames=fieldnames)\n",
    "        writer.writeheader()\n",
    "        for r1, r2 in zip(ids, y_pred):\n",
    "            writer.writerow({'Id':int(r1),'Prediction':int(r2)})\n"
   ]
  },
  {
   "cell_type": "code",
   "execution_count": null,
   "metadata": {},
   "outputs": [],
   "source": [
    "# %load implementations.py\n",
    "import numpy as np\n",
    "from numpy.linalg import inv\n",
    "from tqdm import tqdm\n",
    "\n",
    "def mini_batch(y, tx, size, num):\n",
    "    N = len(y)\n",
    "    # Get random indices\n",
    "    batch_ind = np.random.permutation(np.arange(N))\n",
    "    for batch_id in range(num):\n",
    "        s_id = int(batch_id*size)\n",
    "        e_id = int(s_id+size)\n",
    "        ids = batch_ind[s_id:e_id]\n",
    "        yield y[ids], tx[ids]\n",
    "\n",
    "def mae_loss(y, tx, w):\n",
    "    \"\"\" Compute the MAE loss. \"\"\"\n",
    "    e = y - tx.dot(w)\n",
    "    return np.sum(np.abs(e))/(2*len(y))\n",
    "\n",
    "\n",
    "def mse_loss(y, tx, w):\n",
    "    \"\"\" Compute the MSE loss. \"\"\"\n",
    "    e = y - tx.dot(w)\n",
    "    return np.sum(np.square(e))/(2*len(y))\n",
    "\n",
    "\n",
    "\"\"\" Requested ML methods. \"\"\"\n",
    "def least_square_GD(y, tx, initial_w, max_iters, gamma):\n",
    "    \"\"\" Linear regression using gradient descent. \"\"\"\n",
    "    w = initial_w\n",
    "    for i in tqdm(range(max_iters)):\n",
    "        # Compute error vector\n",
    "        e = y-tx.dot(w)\n",
    "        # Compute gradient\n",
    "        grad = (-1/len(y)) * tx.transpose().dot(e)\n",
    "        # Compute w(t+1)\n",
    "        w = w - gamma*grad\n",
    "        # Compute loss\n",
    "        loss = mse_loss(y, tx, w)\n",
    "    return w, loss\n",
    "\n",
    "def least_square_SGD(y, tx, initial_w, max_iters, gamma):\n",
    "    \"\"\" Linear regression using stochastic gradient descent. \"\"\"\n",
    "    w = initial_w\n",
    "    for i in tqdm(range(max_iters)):\n",
    "        size = len(y)/20\n",
    "        grad = 0\n",
    "        num = 5\n",
    "        for b_y, b_tx in mini_batch(y, tx, size, num):\n",
    "            e = b_y-b_tx.dot(w)\n",
    "            grad += (-1/len(b_y)) * b_tx.transpose().dot(e)\n",
    "        w = w - gamma*grad\n",
    "        loss = mse_loss(y, tx, w)\n",
    "    return w, loss\n",
    "\n",
    "def least_squares(y, tx):\n",
    "    \"\"\" Least squares using normal equations. \"\"\"\n",
    "    w = inv(tx.transpose().dot(tx)).dot(tx.transpose()).dot(y)\n",
    "    loss = mse_loss(y, tx, w)\n",
    "    return w, loss\n",
    "\n",
    "def ridge_regression(y, tx, lambda_):\n",
    "    \"\"\" Ridge regression using normal equations. \"\"\"\n",
    "    N = len(y)\n",
    "    w = np.inv(np.add(tx.transpose().dot(tx), 2*N*lambda_ * np.identity(N))).dot(tx.transpose()).dot(y)\n",
    "    loss = mse_loss(y, tx, w)\n",
    "    return w, loss\n",
    "\n",
    "def logistic_function(z):\n",
    "    \"\"\" The logistic function sigma. \"\"\"\n",
    "    return np.exp(z)/(1+np.exp(z))\n",
    "\n",
    "def logistic_regression(y, tx, initial_w, max_iters, gamma):\n",
    "    \"\"\" Logistic regression using gradient descent or SGD. \"\"\"\n",
    "    for i in range(max_iters):\n",
    "        loss = np.sum(np.log(1 + np.exp(tx.dot(w))) - y * (tx.dot(w)))\n",
    "        grad = tx.transpose().dot(logistic_function(tx.dot(x))-y)\n",
    "    w = w - gamma*grad\n",
    "    return w, loss\n",
    "\n",
    "def reg_logistic_regression(y, tx, lambda_, initial_w, max_iters, gamma):\n",
    "    \"\"\" Regularized logistic regression using gradient descent or SGD. \"\"\"\n",
    "    return w, loss\n"
   ]
  },
  {
   "cell_type": "code",
   "execution_count": null,
   "metadata": {},
   "outputs": [],
   "source": [
    "initial_w = np.zeros(tX.shape[1])\n",
    "initial_w[0] = 1\n",
    "max_iters = 1000\n",
    "gamma = 1e-8\n",
    "\n",
    "weights, loss = least_square_SGD(y, tX, initial_w, max_iters, gamma)\n",
    "outpath = 'output/LS/SGD_g1e-8_100000.csv'"
   ]
  },
  {
   "cell_type": "code",
   "execution_count": null,
   "metadata": {},
   "outputs": [],
   "source": [
    "initial_w = np.zeros(tX.shape[1])\n",
    "initial_w[0] = 1\n",
    "max_iters = 100000\n",
    "gamma = 1e-8\n",
    "\n",
    "weights, loss = least_square_GD(y, tX, initial_w, max_iters, gamma)\n",
    "outpath = 'output/LS/GD_g1e-8_100000.csv'"
   ]
  },
  {
   "cell_type": "markdown",
   "metadata": {},
   "source": [
    "## Generate predictions and save ouput in csv format for submission:"
   ]
  },
  {
   "cell_type": "code",
   "execution_count": null,
   "metadata": {},
   "outputs": [],
   "source": [
    "DATA_TEST_PATH = 'data/test.csv'\n",
    "_, tX_test, ids_test = load_csv_data(DATA_TEST_PATH)"
   ]
  },
  {
   "cell_type": "code",
   "execution_count": null,
   "metadata": {},
   "outputs": [],
   "source": [
    "OUTPUT_PATH = outpath\n",
    "y_pred = predict_labels(weights, tX_test)\n",
    "create_csv_submission(ids_test, y_pred, OUTPUT_PATH)"
   ]
  },
  {
   "cell_type": "code",
   "execution_count": null,
   "metadata": {},
   "outputs": [],
   "source": []
  }
 ],
 "metadata": {
  "anaconda-cloud": {},
  "kernelspec": {
   "display_name": "Python 3",
   "language": "python",
   "name": "python3"
  },
  "language_info": {
   "codemirror_mode": {
    "name": "ipython",
    "version": 3
   },
   "file_extension": ".py",
   "mimetype": "text/x-python",
   "name": "python",
   "nbconvert_exporter": "python",
   "pygments_lexer": "ipython3",
   "version": "3.7.3"
  }
 },
 "nbformat": 4,
 "nbformat_minor": 1
}
