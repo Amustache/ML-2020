{
 "cells": [
  {
   "cell_type": "code",
   "execution_count": 1,
   "metadata": {},
   "outputs": [
    {
     "name": "stdout",
     "output_type": "stream",
     "text": [
      "Requirement already satisfied: numpy in c:\\users\\stache\\anaconda3\\envs\\ada\\lib\\site-packages (1.19.1)\n",
      "Collecting tqdm\n",
      "  Downloading tqdm-4.50.2-py2.py3-none-any.whl (70 kB)\n",
      "Installing collected packages: tqdm\n",
      "Successfully installed tqdm-4.50.2\n",
      "Requirement already satisfied: matplotlib in c:\\users\\stache\\anaconda3\\envs\\ada\\lib\\site-packages (3.3.1)\n",
      "Requirement already satisfied: kiwisolver>=1.0.1 in c:\\users\\stache\\anaconda3\\envs\\ada\\lib\\site-packages (from matplotlib) (1.2.0)\n",
      "Requirement already satisfied: certifi>=2020.06.20 in c:\\users\\stache\\anaconda3\\envs\\ada\\lib\\site-packages (from matplotlib) (2020.6.20)\n",
      "Requirement already satisfied: cycler>=0.10 in c:\\users\\stache\\anaconda3\\envs\\ada\\lib\\site-packages (from matplotlib) (0.10.0)\n",
      "Requirement already satisfied: pyparsing!=2.0.4,!=2.1.2,!=2.1.6,>=2.0.3 in c:\\users\\stache\\anaconda3\\envs\\ada\\lib\\site-packages (from matplotlib) (2.4.7)\n",
      "Requirement already satisfied: numpy>=1.15 in c:\\users\\stache\\anaconda3\\envs\\ada\\lib\\site-packages (from matplotlib) (1.19.1)\n",
      "Requirement already satisfied: python-dateutil>=2.1 in c:\\users\\stache\\anaconda3\\envs\\ada\\lib\\site-packages (from matplotlib) (2.8.1)\n",
      "Requirement already satisfied: pillow>=6.2.0 in c:\\users\\stache\\anaconda3\\envs\\ada\\lib\\site-packages (from matplotlib) (7.2.0)\n",
      "Requirement already satisfied: six in c:\\users\\stache\\anaconda3\\envs\\ada\\lib\\site-packages (from cycler>=0.10->matplotlib) (1.15.0)\n"
     ]
    }
   ],
   "source": [
    "import sys\n",
    "!{sys.executable} -m pip install numpy\n",
    "!{sys.executable} -m pip install tqdm\n",
    "!{sys.executable} -m pip install matplotlib"
   ]
  },
  {
   "cell_type": "code",
   "execution_count": 2,
   "metadata": {},
   "outputs": [],
   "source": [
    "# Useful starting lines\n",
    "%matplotlib inline\n",
    "import numpy as np\n",
    "import matplotlib.pyplot as plt\n",
    "%load_ext autoreload\n",
    "%autoreload 2"
   ]
  },
  {
   "cell_type": "markdown",
   "metadata": {},
   "source": [
    "## Load the training data into feature matrix, class labels, and event ids:"
   ]
  },
  {
   "cell_type": "code",
   "execution_count": 3,
   "metadata": {},
   "outputs": [],
   "source": [
    "from proj1_helpers import *\n",
    "DATA_TRAIN_PATH = 'data/train.csv' # TODO: download train data and supply path here \n",
    "y, tX, ids = load_csv_data(DATA_TRAIN_PATH)"
   ]
  },
  {
   "cell_type": "code",
   "execution_count": 4,
   "metadata": {},
   "outputs": [],
   "source": [
    "# %load proj1_helpers.py\n",
    "\"\"\"some helper functions for project 1.\"\"\"\n",
    "import csv\n",
    "import numpy as np\n",
    "\n",
    "\n",
    "def load_csv_data(data_path, sub_sample=False):\n",
    "    \"\"\"Loads data and returns y (class labels), tX (features) and ids (event ids)\"\"\"\n",
    "    y = np.genfromtxt(data_path, delimiter=\",\", skip_header=1, dtype=str, usecols=1)\n",
    "    x = np.genfromtxt(data_path, delimiter=\",\", skip_header=1)\n",
    "    ids = x[:, 0].astype(np.int)\n",
    "    input_data = x[:, 2:]\n",
    "\n",
    "    # convert class labels from strings to binary (-1,1)\n",
    "    yb = np.ones(len(y))\n",
    "    yb[np.where(y=='b')] = -1\n",
    "    \n",
    "    # sub-sample\n",
    "    if sub_sample:\n",
    "        yb = yb[::50]\n",
    "        input_data = input_data[::50]\n",
    "        ids = ids[::50]\n",
    "\n",
    "    return yb, input_data, ids\n",
    "\n",
    "\n",
    "def predict_labels(weights, data):\n",
    "    \"\"\"Generates class predictions given weights, and a test data matrix\"\"\"\n",
    "    y_pred = np.dot(data, weights)\n",
    "    y_pred[np.where(y_pred <= 0)] = -1\n",
    "    y_pred[np.where(y_pred > 0)] = 1\n",
    "    \n",
    "    return y_pred\n",
    "\n",
    "\n",
    "def create_csv_submission(ids, y_pred, name):\n",
    "    \"\"\"\n",
    "    Creates an output file in csv format for submission to kaggle\n",
    "    Arguments: ids (event ids associated with each prediction)\n",
    "               y_pred (predicted class labels)\n",
    "               name (string name of .csv output file to be created)\n",
    "    \"\"\"\n",
    "    with open(name, 'w') as csvfile:\n",
    "        fieldnames = ['Id', 'Prediction']\n",
    "        writer = csv.DictWriter(csvfile, delimiter=\",\", fieldnames=fieldnames)\n",
    "        writer.writeheader()\n",
    "        for r1, r2 in zip(ids, y_pred):\n",
    "            writer.writerow({'Id':int(r1),'Prediction':int(r2)})\n"
   ]
  },
  {
   "cell_type": "code",
   "execution_count": 5,
   "metadata": {},
   "outputs": [],
   "source": [
    "# %load implementations.py\n",
    "import numpy as np\n",
    "from numpy.linalg import inv\n",
    "from tqdm import tqdm\n",
    "\n",
    "def mini_batch(y, tx, size, num):\n",
    "    \"\"\" Generate random batches from the given data.\n",
    "    \n",
    "    Args:\n",
    "        y: Class labels.\n",
    "        tx: Features as a NxM matrix.\n",
    "        size: Size of batches.\n",
    "        num: Number of batches.\n",
    "    Yields:\n",
    "        labels and data for a batch.\n",
    "\n",
    "    Usage:\n",
    "        To iterate through all batches use the following for loop :\n",
    "\n",
    "        for b_y, b_tx in mini_batch(y, tx, size, num):\n",
    "    \"\"\"\n",
    "    N = len(y)\n",
    "    # Get random indices\n",
    "    batch_ind = np.random.permutation(np.arange(N))\n",
    "    for batch_id in range(num):\n",
    "        s_id = int(batch_id*size)\n",
    "        e_id = int(s_id+size)\n",
    "        ids = batch_ind[s_id:e_id]\n",
    "        yield y[ids], tx[ids]\n",
    "\n",
    "def k_fold_batch(y, tx, k):\n",
    "    \"\"\" Generate batches for k-fold.\n",
    "\n",
    "    Args:\n",
    "        y: Class labels.\n",
    "        tx: Features as a NxM matrix.\n",
    "        k: Number of folds.\n",
    "    Return:\n",
    "        y_train: k-1 batches of labels for training.\n",
    "        tx_train: k-1 batches of data for training.\n",
    "        y_test: 1 batch of labels for testing.\n",
    "        tx: 1 batch of data for testing\n",
    "    \"\"\"\n",
    "    N = len(y)\n",
    "    if N%k != 0:\n",
    "        print(\"K-fold error: Size of tX must be multiple of k.\")\n",
    "        return\n",
    "    batch_size = int(N/k)\n",
    "    # Get random indices\n",
    "    batch_ind = np.arange(N)\n",
    "    y_train = []\n",
    "    tx_train = []\n",
    "    for batch_id in range(k-1):\n",
    "        s_id = int(batch_id*batch_size)\n",
    "        e_id = int(s_id+batch_size)\n",
    "        y_train.append(y[s_id:e_id].copy())\n",
    "        tx_train.append(tx[s_id:e_id].copy())\n",
    "    y_test = y[N-batch_size:N]\n",
    "    tx_test = tx[N-batch_size:N]\n",
    "    return y_train, tx_train, y_test, tx_test\n",
    "\n",
    "def mae_loss(y, tx, w):\n",
    "    \"\"\" Compute the MAE loss. \"\"\"\n",
    "    e = y - tx.dot(w)\n",
    "    return np.sum(np.abs(e))/(2*len(y))\n",
    "\n",
    "\n",
    "def mse_loss(y, tx, w):\n",
    "    \"\"\" Compute the MSE loss. \"\"\"\n",
    "    e = y - tx.dot(w)\n",
    "    return np.sum(np.square(e))/(2*len(y))\n",
    "\n",
    "def cross_validate_ridge_regression(y, tx, k, l_st, l_en, l_space):\n",
    "    \"\"\" K-fold cross-validation for selecting lambda for ridge regression.\n",
    "    \n",
    "    Args:\n",
    "        y: class labels.\n",
    "        tx: Features as a NxM matrix.\n",
    "        k: Number of folds.\n",
    "        l_st: Start of logspace for lambdas to test.\n",
    "        l_en: End of logspace for lambdas to test.\n",
    "        l_space: Number of lambdas to test in the logspace.\n",
    "\n",
    "    Returns:\n",
    "        The lambda with the lowest mean error for cross-validation with k folds.\n",
    "    \"\"\"\n",
    "    size_batches = tx/k\n",
    "    y_train_set, tx_train_set, y_test, tx_test = k_fold_batch(y, tx, k)\n",
    "    min_loss = 999999999999\n",
    "    best_l = 0\n",
    "    tested_loss = []\n",
    "    tested_lambda = []\n",
    "    for l in tqdm(np.logspace(l_st, l_en, num=l_space)):\n",
    "        tmp_loss = []\n",
    "        for i in range(len(y_train_set)):\n",
    "            b_y = y_train_set[i]\n",
    "            b_tx = tx_train_set[i]\n",
    "            w, _ = ridge_regression(b_y, b_tx,l)\n",
    "            tmp_loss.append(mse_loss(y_test, tx_test, w))\n",
    "        mean_loss = np.mean(tmp_loss)\n",
    "        # Loss and lambda used for plot.\n",
    "        tested_loss.append(mean_loss)\n",
    "        tested_lambda.append(l)\n",
    "        if mean_loss < min_loss:\n",
    "            min_loss = mean_loss\n",
    "            best_l = l\n",
    "    plt.semilogx(tested_lambda, tested_loss, \"*r\")\n",
    "    return best_l\n",
    "\n",
    "def cross_validate_reg_logistic_regression(y, tx, initial_w, max_iters, gamma, k, l_st, l_en, l_space):\n",
    "    \"\"\" K-fold cross-validation for selecting lambda for regularized logistic regression.\n",
    "    \n",
    "    Args:\n",
    "        y: class labels.\n",
    "        tx: Features as a NxM matrix.\n",
    "        initial_w: Initial weights vector.\n",
    "        max_iters: Number of steps.\n",
    "        gamma: Step size.\n",
    "        k: Number of folds.\n",
    "        l_st: Start of logspace for lambdas to test.\n",
    "        l_en: End of logspace for lambdas to test.\n",
    "        l_space: Number of lambdas to test in the logspace.\n",
    "\n",
    "    Returns:\n",
    "        The lambda with the lowest mean error for cross-validation with k folds.\n",
    "    \"\"\"\n",
    "    size_batches = tx/k\n",
    "    y_train_set, tx_train_set, y_test, tx_test = k_fold_batch(y, tx, k)\n",
    "    min_loss = 999999999999\n",
    "    best_l = 0\n",
    "    tested_loss = []\n",
    "    tested_lambda = []\n",
    "    for l in tqdm(np.logspace(l_st, l_en, num=l_space)):\n",
    "        tmp_loss = []\n",
    "        for i in range(len(y_train_set)):\n",
    "            b_y = y_train_set[i]\n",
    "            b_tx = tx_train_set[i]\n",
    "            w, _ = reg_logistic_regression(b_y, b_tx, l, initial_w, max_iters, gamma)\n",
    "            tmp_loss.append(mse_loss(y_test, tx_test, w))\n",
    "        mean_loss = np.mean(tmp_loss)\n",
    "        # Loss and lambda used for plot.\n",
    "        tested_loss.append(mean_loss)\n",
    "        tested_lambda.append(l)\n",
    "        if mean_loss < min_loss:\n",
    "            min_loss = mean_loss\n",
    "            best_l = l\n",
    "    plt.semilogx(tested_lambda, tested_loss, \"*r\")\n",
    "    return best_l\n",
    "\n",
    "\"\"\" Requested ML methods. \"\"\"\n",
    "def least_square_GD(y, tx, initial_w, max_iters, gamma):\n",
    "    \"\"\" Linear regression using gradient descent. \"\"\"\n",
    "    w = initial_w\n",
    "    for i in tqdm(range(max_iters)):\n",
    "        # Compute error vector\n",
    "        e = y-tx.dot(w)\n",
    "        # Compute gradient\n",
    "        grad = (-1/len(y)) * tx.transpose().dot(e)\n",
    "        # Compute w(t+1)\n",
    "        w = w - gamma*grad\n",
    "        # Compute loss\n",
    "        loss = mse_loss(y, tx, w)\n",
    "    return w, loss\n",
    "\n",
    "def least_square_SGD(y, tx, initial_w, max_iters, gamma):\n",
    "    \"\"\" Linear regression using stochastic gradient descent. \"\"\"\n",
    "    w = initial_w\n",
    "    for i in tqdm(range(max_iters)):\n",
    "        size = len(y)/20\n",
    "        grad = 0\n",
    "        num = 5\n",
    "        for b_y, b_tx in mini_batch(y, tx, size, num):\n",
    "            e = b_y-b_tx.dot(w)\n",
    "            grad += (-1/len(b_y)) * b_tx.transpose().dot(e)\n",
    "        w = w - gamma*grad\n",
    "        loss = mse_loss(y, tx, w)\n",
    "    return w, loss\n",
    "\n",
    "def least_squares(y, tx):\n",
    "    \"\"\" Least squares using normal equations. \"\"\"\n",
    "    w = inv(tx.transpose().dot(tx)).dot(tx.transpose()).dot(y)\n",
    "    loss = mse_loss(y, tx, w)\n",
    "    return w, loss\n",
    "\n",
    "def ridge_regression(y, tx, lambda_):\n",
    "    \"\"\" Ridge regression using normal equations. \"\"\"\n",
    "    M, N = tx.shape\n",
    "    w = inv(np.add(tx.transpose().dot(tx), 2*M*lambda_ * np.identity(N))).dot(tx.transpose()).dot(y)\n",
    "    loss = mse_loss(y, tx, w)\n",
    "    return w, loss\n",
    "\n",
    "def logistic_function(z):\n",
    "    \"\"\" The logistic function sigma. \"\"\"\n",
    "    return np.exp(z)/(1+np.exp(z))\n",
    "\n",
    "def logistic_regression(y, tx, initial_w, max_iters, gamma):\n",
    "    \"\"\" Logistic regression using gradient descent or SGD. \"\"\"\n",
    "    for i in range(max_iters):\n",
    "        loss = np.sum(np.log(1 + np.exp(tx.dot(w))) - y * (tx.dot(w)))\n",
    "        grad = tx.transpose().dot(logistic_function(tx.dot(x))-y)\n",
    "        w = w - gamma*grad\n",
    "    return w, loss\n",
    "\n",
    "def reg_logistic_regression(y, tx, lambda_, initial_w, max_iters, gamma):\n",
    "    \"\"\" Regularized logistic regression using gradient descent or SGD. \"\"\"\n",
    "    for i in range(max_iters):\n",
    "        loss = np.sum(np.log(1 + np.exp(tx.dot(w))) - y * (tx.dot(w))) + (lambda_/2) * np.sum(np.power(np.linalg.norm(w), 2))\n",
    "        grad = tx.transpose().dot(logistic_function(tx.dot(x))-y) + lambda_ * np.sum(np.linalg.norm(w))\n",
    "        w = w - gamma*grad\n",
    "    return w, loss\n"
   ]
  },
  {
   "cell_type": "code",
   "execution_count": 6,
   "metadata": {},
   "outputs": [
    {
     "name": "stderr",
     "output_type": "stream",
     "text": [
      " 76%|███████████████████████████████████████████████████████▏                 | 75566/100000 [1:31:53<29:42, 13.71it/s]\n"
     ]
    },
    {
     "ename": "KeyboardInterrupt",
     "evalue": "",
     "output_type": "error",
     "traceback": [
      "\u001b[1;31m---------------------------------------------------------------------------\u001b[0m",
      "\u001b[1;31mKeyboardInterrupt\u001b[0m                         Traceback (most recent call last)",
      "\u001b[1;32m<ipython-input-6-72923ba90f28>\u001b[0m in \u001b[0;36m<module>\u001b[1;34m\u001b[0m\n\u001b[0;32m      4\u001b[0m \u001b[0mgamma\u001b[0m \u001b[1;33m=\u001b[0m \u001b[1;36m1e-8\u001b[0m\u001b[1;33m\u001b[0m\u001b[1;33m\u001b[0m\u001b[0m\n\u001b[0;32m      5\u001b[0m \u001b[1;33m\u001b[0m\u001b[0m\n\u001b[1;32m----> 6\u001b[1;33m \u001b[0mweights\u001b[0m\u001b[1;33m,\u001b[0m \u001b[0mloss\u001b[0m \u001b[1;33m=\u001b[0m \u001b[0mleast_square_SGD\u001b[0m\u001b[1;33m(\u001b[0m\u001b[0my\u001b[0m\u001b[1;33m,\u001b[0m \u001b[0mtX\u001b[0m\u001b[1;33m,\u001b[0m \u001b[0minitial_w\u001b[0m\u001b[1;33m,\u001b[0m \u001b[0mmax_iters\u001b[0m\u001b[1;33m,\u001b[0m \u001b[0mgamma\u001b[0m\u001b[1;33m)\u001b[0m\u001b[1;33m\u001b[0m\u001b[1;33m\u001b[0m\u001b[0m\n\u001b[0m\u001b[0;32m      7\u001b[0m \u001b[0moutpath\u001b[0m \u001b[1;33m=\u001b[0m \u001b[1;34m'output/LS/SGD_g1e-8_100000.csv'\u001b[0m\u001b[1;33m\u001b[0m\u001b[1;33m\u001b[0m\u001b[0m\n",
      "\u001b[1;32m<ipython-input-5-58ae51c188b0>\u001b[0m in \u001b[0;36mleast_square_SGD\u001b[1;34m(y, tx, initial_w, max_iters, gamma)\u001b[0m\n\u001b[0;32m    170\u001b[0m         \u001b[0mgrad\u001b[0m \u001b[1;33m=\u001b[0m \u001b[1;36m0\u001b[0m\u001b[1;33m\u001b[0m\u001b[1;33m\u001b[0m\u001b[0m\n\u001b[0;32m    171\u001b[0m         \u001b[0mnum\u001b[0m \u001b[1;33m=\u001b[0m \u001b[1;36m5\u001b[0m\u001b[1;33m\u001b[0m\u001b[1;33m\u001b[0m\u001b[0m\n\u001b[1;32m--> 172\u001b[1;33m         \u001b[1;32mfor\u001b[0m \u001b[0mb_y\u001b[0m\u001b[1;33m,\u001b[0m \u001b[0mb_tx\u001b[0m \u001b[1;32min\u001b[0m \u001b[0mmini_batch\u001b[0m\u001b[1;33m(\u001b[0m\u001b[0my\u001b[0m\u001b[1;33m,\u001b[0m \u001b[0mtx\u001b[0m\u001b[1;33m,\u001b[0m \u001b[0msize\u001b[0m\u001b[1;33m,\u001b[0m \u001b[0mnum\u001b[0m\u001b[1;33m)\u001b[0m\u001b[1;33m:\u001b[0m\u001b[1;33m\u001b[0m\u001b[1;33m\u001b[0m\u001b[0m\n\u001b[0m\u001b[0;32m    173\u001b[0m             \u001b[0me\u001b[0m \u001b[1;33m=\u001b[0m \u001b[0mb_y\u001b[0m\u001b[1;33m-\u001b[0m\u001b[0mb_tx\u001b[0m\u001b[1;33m.\u001b[0m\u001b[0mdot\u001b[0m\u001b[1;33m(\u001b[0m\u001b[0mw\u001b[0m\u001b[1;33m)\u001b[0m\u001b[1;33m\u001b[0m\u001b[1;33m\u001b[0m\u001b[0m\n\u001b[0;32m    174\u001b[0m             \u001b[0mgrad\u001b[0m \u001b[1;33m+=\u001b[0m \u001b[1;33m(\u001b[0m\u001b[1;33m-\u001b[0m\u001b[1;36m1\u001b[0m\u001b[1;33m/\u001b[0m\u001b[0mlen\u001b[0m\u001b[1;33m(\u001b[0m\u001b[0mb_y\u001b[0m\u001b[1;33m)\u001b[0m\u001b[1;33m)\u001b[0m \u001b[1;33m*\u001b[0m \u001b[0mb_tx\u001b[0m\u001b[1;33m.\u001b[0m\u001b[0mtranspose\u001b[0m\u001b[1;33m(\u001b[0m\u001b[1;33m)\u001b[0m\u001b[1;33m.\u001b[0m\u001b[0mdot\u001b[0m\u001b[1;33m(\u001b[0m\u001b[0me\u001b[0m\u001b[1;33m)\u001b[0m\u001b[1;33m\u001b[0m\u001b[1;33m\u001b[0m\u001b[0m\n",
      "\u001b[1;32m<ipython-input-5-58ae51c188b0>\u001b[0m in \u001b[0;36mmini_batch\u001b[1;34m(y, tx, size, num)\u001b[0m\n\u001b[0;32m     27\u001b[0m         \u001b[0me_id\u001b[0m \u001b[1;33m=\u001b[0m \u001b[0mint\u001b[0m\u001b[1;33m(\u001b[0m\u001b[0ms_id\u001b[0m\u001b[1;33m+\u001b[0m\u001b[0msize\u001b[0m\u001b[1;33m)\u001b[0m\u001b[1;33m\u001b[0m\u001b[1;33m\u001b[0m\u001b[0m\n\u001b[0;32m     28\u001b[0m         \u001b[0mids\u001b[0m \u001b[1;33m=\u001b[0m \u001b[0mbatch_ind\u001b[0m\u001b[1;33m[\u001b[0m\u001b[0ms_id\u001b[0m\u001b[1;33m:\u001b[0m\u001b[0me_id\u001b[0m\u001b[1;33m]\u001b[0m\u001b[1;33m\u001b[0m\u001b[1;33m\u001b[0m\u001b[0m\n\u001b[1;32m---> 29\u001b[1;33m         \u001b[1;32myield\u001b[0m \u001b[0my\u001b[0m\u001b[1;33m[\u001b[0m\u001b[0mids\u001b[0m\u001b[1;33m]\u001b[0m\u001b[1;33m,\u001b[0m \u001b[0mtx\u001b[0m\u001b[1;33m[\u001b[0m\u001b[0mids\u001b[0m\u001b[1;33m]\u001b[0m\u001b[1;33m\u001b[0m\u001b[1;33m\u001b[0m\u001b[0m\n\u001b[0m\u001b[0;32m     30\u001b[0m \u001b[1;33m\u001b[0m\u001b[0m\n\u001b[0;32m     31\u001b[0m \u001b[1;32mdef\u001b[0m \u001b[0mk_fold_batch\u001b[0m\u001b[1;33m(\u001b[0m\u001b[0my\u001b[0m\u001b[1;33m,\u001b[0m \u001b[0mtx\u001b[0m\u001b[1;33m,\u001b[0m \u001b[0mk\u001b[0m\u001b[1;33m)\u001b[0m\u001b[1;33m:\u001b[0m\u001b[1;33m\u001b[0m\u001b[1;33m\u001b[0m\u001b[0m\n",
      "\u001b[1;31mKeyboardInterrupt\u001b[0m: "
     ]
    }
   ],
   "source": [
    "initial_w = np.zeros(tX.shape[1])\n",
    "initial_w[0] = 1\n",
    "max_iters = 100000\n",
    "gamma = 1e-8\n",
    "\n",
    "weights, loss = least_square_SGD(y, tX, initial_w, max_iters, gamma)\n",
    "outpath = 'output/LS/SGD_g1e-8_100000.csv'"
   ]
  },
  {
   "cell_type": "code",
   "execution_count": null,
   "metadata": {},
   "outputs": [],
   "source": [
    "initial_w = np.zeros(tX.shape[1])\n",
    "initial_w[0] = 1\n",
    "max_iters = 100000\n",
    "gamma = 1e-8\n",
    "\n",
    "weights, loss = least_square_GD(y, tX, initial_w, max_iters, gamma)\n",
    "outpath = 'output/LS/GD_g1e-8_100000.csv'"
   ]
  },
  {
   "cell_type": "code",
   "execution_count": 7,
   "metadata": {
    "scrolled": true
   },
   "outputs": [
    {
     "name": "stderr",
     "output_type": "stream",
     "text": [
      "100%|████████████████████████████████████████████████████████████████████████████████| 100/100 [00:08<00:00, 11.26it/s]\n"
     ]
    },
    {
     "data": {
      "image/png": "[encoded data removed]",
      "text/plain": [
       "<Figure size 432x288 with 1 Axes>"
      ]
     },
     "metadata": {
      "needs_background": "light"
     },
     "output_type": "display_data"
    }
   ],
   "source": [
    "k = 10\n",
    "l_st = -3.5\n",
    "l_en = -2.5\n",
    "l_space = 100\n",
    "\n",
    "lambda_ = cross_validate_ridge_regression(y, tX, k, l_st, l_en, l_space)\n",
    "weights, loss = ridge_regression(y, tX, lambda_)\n",
    "outpath = 'output/RR/'+str(k)+'_fold_lambda_'+str(lambda_)+'.csv'"
   ]
  },
  {
   "cell_type": "markdown",
   "metadata": {},
   "source": [
    "## Generate predictions and save ouput in csv format for submission:"
   ]
  },
  {
   "cell_type": "code",
   "execution_count": 11,
   "metadata": {},
   "outputs": [],
   "source": [
    "import numpy as np\n",
    "\n",
    "\n",
    "def basic_metrics(y, y_pred):\n",
    "    TP = np.sum(np.logical_and(y_pred == 1, y == 1))\n",
    "    TN = np.sum(np.logical_and(y_pred == -1, y == -1))\n",
    "    FP = np.sum(np.logical_and(y_pred == 1, y == -1))\n",
    "    FN = np.sum(np.logical_and(y_pred == -1, y == 1))\n",
    "    return TP, TN, FP, FN\n",
    "\n",
    "\n",
    "def precision(y, y_pred):\n",
    "    TP, TN, FP, FN = basic_metrics(y, y_pred)\n",
    "    return TP / (TP + FP)\n",
    "\n",
    "\n",
    "def TPR(y, y_pred):\n",
    "    TP, TN, FP, FN = basic_metrics(y, y_pred)\n",
    "    return TP / (TP + FN)\n",
    "\n",
    "\n",
    "def FPR(y, y_pred):\n",
    "    TP, TN, FP, FN = basic_metrics(y, y_pred)\n",
    "    return FP / (FP + TN)\n",
    "\n",
    "\n",
    "def accuracy(y, y_pred):\n",
    "    TP, TN, FP, FN = basic_metrics(y, y_pred)\n",
    "    return (TP + TN) / (TP + TN + FP + FN)\n",
    "\n",
    "\n",
    "def F1(y, y_pred):\n",
    "    p = precision(y, y_pred)\n",
    "    r = TPR(y, y_pred)\n",
    "    return 2 * (p * r) / (p + r)\n",
    "\n",
    "\n",
    "def metrics(y, y_pred):\n",
    "    return F1(y, y_pred), accuracy(y, y_pred)\n"
   ]
  },
  {
   "cell_type": "code",
   "execution_count": 10,
   "metadata": {},
   "outputs": [],
   "source": [
    "DATA_TEST_PATH = 'data/test.csv'\n",
    "y, tX_test, ids_test = load_csv_data(DATA_TEST_PATH)"
   ]
  },
  {
   "cell_type": "code",
   "execution_count": 12,
   "metadata": {},
   "outputs": [],
   "source": [
    "y_pred = predict_labels(weights, tX_test)"
   ]
  },
  {
   "cell_type": "code",
   "execution_count": 13,
   "metadata": {},
   "outputs": [
    {
     "name": "stdout",
     "output_type": "stream",
     "text": [
      "F1-score: 0.4009758966472547, accuracy: 0.2507628845659741.\n"
     ]
    }
   ],
   "source": [
    "# Metrics\n",
    "F1, accuracy = metrics(y, y_pred)\n",
    "print(\"F1-score: {}, accuracy: {}.\".format(F1, accuracy))"
   ]
  },
  {
   "cell_type": "code",
   "execution_count": 9,
   "metadata": {},
   "outputs": [
    {
     "ename": "FileNotFoundError",
     "evalue": "[Errno 2] No such file or directory: 'output/RR/10_fold_lambda_0.0014677992676220704.csv'",
     "output_type": "error",
     "traceback": [
      "\u001b[1;31m---------------------------------------------------------------------------\u001b[0m",
      "\u001b[1;31mFileNotFoundError\u001b[0m                         Traceback (most recent call last)",
      "\u001b[1;32m<ipython-input-9-733de8467bb0>\u001b[0m in \u001b[0;36m<module>\u001b[1;34m\u001b[0m\n\u001b[0;32m      1\u001b[0m \u001b[0mOUTPUT_PATH\u001b[0m \u001b[1;33m=\u001b[0m \u001b[0moutpath\u001b[0m\u001b[1;33m\u001b[0m\u001b[1;33m\u001b[0m\u001b[0m\n\u001b[0;32m      2\u001b[0m \u001b[0my_pred\u001b[0m \u001b[1;33m=\u001b[0m \u001b[0mpredict_labels\u001b[0m\u001b[1;33m(\u001b[0m\u001b[0mweights\u001b[0m\u001b[1;33m,\u001b[0m \u001b[0mtX_test\u001b[0m\u001b[1;33m)\u001b[0m\u001b[1;33m\u001b[0m\u001b[1;33m\u001b[0m\u001b[0m\n\u001b[1;32m----> 3\u001b[1;33m \u001b[0mcreate_csv_submission\u001b[0m\u001b[1;33m(\u001b[0m\u001b[0mids_test\u001b[0m\u001b[1;33m,\u001b[0m \u001b[0my_pred\u001b[0m\u001b[1;33m,\u001b[0m \u001b[0mOUTPUT_PATH\u001b[0m\u001b[1;33m)\u001b[0m\u001b[1;33m\u001b[0m\u001b[1;33m\u001b[0m\u001b[0m\n\u001b[0m",
      "\u001b[1;32m<ipython-input-4-938f7defc1d1>\u001b[0m in \u001b[0;36mcreate_csv_submission\u001b[1;34m(ids, y_pred, name)\u001b[0m\n\u001b[0;32m     41\u001b[0m                \u001b[0mname\u001b[0m \u001b[1;33m(\u001b[0m\u001b[0mstring\u001b[0m \u001b[0mname\u001b[0m \u001b[0mof\u001b[0m \u001b[1;33m.\u001b[0m\u001b[0mcsv\u001b[0m \u001b[0moutput\u001b[0m \u001b[0mfile\u001b[0m \u001b[0mto\u001b[0m \u001b[0mbe\u001b[0m \u001b[0mcreated\u001b[0m\u001b[1;33m)\u001b[0m\u001b[1;33m\u001b[0m\u001b[1;33m\u001b[0m\u001b[0m\n\u001b[0;32m     42\u001b[0m     \"\"\"\n\u001b[1;32m---> 43\u001b[1;33m     \u001b[1;32mwith\u001b[0m \u001b[0mopen\u001b[0m\u001b[1;33m(\u001b[0m\u001b[0mname\u001b[0m\u001b[1;33m,\u001b[0m \u001b[1;34m'w'\u001b[0m\u001b[1;33m)\u001b[0m \u001b[1;32mas\u001b[0m \u001b[0mcsvfile\u001b[0m\u001b[1;33m:\u001b[0m\u001b[1;33m\u001b[0m\u001b[1;33m\u001b[0m\u001b[0m\n\u001b[0m\u001b[0;32m     44\u001b[0m         \u001b[0mfieldnames\u001b[0m \u001b[1;33m=\u001b[0m \u001b[1;33m[\u001b[0m\u001b[1;34m'Id'\u001b[0m\u001b[1;33m,\u001b[0m \u001b[1;34m'Prediction'\u001b[0m\u001b[1;33m]\u001b[0m\u001b[1;33m\u001b[0m\u001b[1;33m\u001b[0m\u001b[0m\n\u001b[0;32m     45\u001b[0m         \u001b[0mwriter\u001b[0m \u001b[1;33m=\u001b[0m \u001b[0mcsv\u001b[0m\u001b[1;33m.\u001b[0m\u001b[0mDictWriter\u001b[0m\u001b[1;33m(\u001b[0m\u001b[0mcsvfile\u001b[0m\u001b[1;33m,\u001b[0m \u001b[0mdelimiter\u001b[0m\u001b[1;33m=\u001b[0m\u001b[1;34m\",\"\u001b[0m\u001b[1;33m,\u001b[0m \u001b[0mfieldnames\u001b[0m\u001b[1;33m=\u001b[0m\u001b[0mfieldnames\u001b[0m\u001b[1;33m)\u001b[0m\u001b[1;33m\u001b[0m\u001b[1;33m\u001b[0m\u001b[0m\n",
      "\u001b[1;31mFileNotFoundError\u001b[0m: [Errno 2] No such file or directory: 'output/RR/10_fold_lambda_0.0014677992676220704.csv'"
     ]
    }
   ],
   "source": [
    "OUTPUT_PATH = outpath\n",
    "y_pred = predict_labels(weights, tX_test)\n",
    "create_csv_submission(ids_test, y_pred, OUTPUT_PATH)"
   ]
  },
  {
   "cell_type": "code",
   "execution_count": null,
   "metadata": {},
   "outputs": [],
   "source": []
  }
 ],
 "metadata": {
  "anaconda-cloud": {},
  "kernelspec": {
   "display_name": "Python 3",
   "language": "python",
   "name": "python3"
  },
  "language_info": {
   "codemirror_mode": {
    "name": "ipython",
    "version": 3
   },
   "file_extension": ".py",
   "mimetype": "text/x-python",
   "name": "python",
   "nbconvert_exporter": "python",
   "pygments_lexer": "ipython3",
   "version": "3.8.5"
  }
 },
 "nbformat": 4,
 "nbformat_minor": 1
}
